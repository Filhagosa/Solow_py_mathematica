{
 "cells": [
  {
   "cell_type": "code",
   "execution_count": 1,
   "metadata": {},
   "outputs": [],
   "source": [
    "# Ignorar isso:\n",
    "%config Completer.use_jedi =False"
   ]
  },
  {
   "cell_type": "code",
   "execution_count": 3,
   "metadata": {},
   "outputs": [],
   "source": [
    "# importando os modulos necessários\n",
    "import matplotlib.pyplot as plt\n",
    "%matplotlib inline"
   ]
  },
  {
   "cell_type": "markdown",
   "metadata": {},
   "source": [
    "# Computando a trajetória do acúmulo de capital com o tempo de acordo com o modelo de Solow\n",
    "\n",
    "\n",
    "## O modelo:\n",
    "Para Solow a economia apresenta a seguinte dinâmica:"
   ]
  },
  {
   "cell_type": "markdown",
   "metadata": {},
   "source": [
    "$$ k(t+1) = k(t)^{\\alpha} + (1- \\delta)k(t) $$\n",
    "\n",
    "Com nível de produto total em cada período:\n",
    "\n",
    "$$ y(t) = k(t)^{\\alpha} $$\n",
    "\n",
    "E ela cresce até que atinja o *steady-state* , isto é, no ponto em que a taxa de crescimento de capital é constante, \n",
    "dada pela seguinte exoressão:\n",
    "\n",
    "$$ \\frac{s z}{n + \\delta}^{\\frac{1}{1-\\alpha}} $$\n",
    "\n",
    "Sendo:\n",
    "* $s$ -> Propensão a poupar da economia\n",
    "* $z$ -> Produtividade do trabalho\n",
    "* $\\alpha$ -> proporção da mão de obra na produção final\n",
    "* $k$ -> Estoque de capital\n",
    "* $\\delta$ -> taxa de depreciação constante do capital em cada período\n",
    "* $n$ -> taxa de crescimento populacional"
   ]
  },
  {
   "cell_type": "code",
   "execution_count": 52,
   "metadata": {},
   "outputs": [],
   "source": [
    "class Solowqe:\n",
    "    \n",
    "    def __init__(self, n=0.05, # taxa de crescimento populacional\n",
    "                       s=0.25, # taxa de poupança sobre renda\n",
    "                       δ=0.1, # taxa de depreciação\n",
    "                       α=0.3, # proporção da mão de obra na produção final\n",
    "                       z=2.0, # produtividade\n",
    "                       k=1.0): # Estoque de capital corrente\n",
    "        self.n, self.s, self.δ, self.α, self.z = n, s, δ, α, z\n",
    "        self.k = k\n",
    "    def h(self):\n",
    "    \n",
    "        n, s, δ, α, z = self.n, self.s, self.δ, self.α, self.z #linha só para se livrar do \"self.\"\n",
    "        # Aplicando o calculo do estoque de capital pro próximo período\n",
    "        return (s * z * self.k**α + (1 - δ) * self.k) / (1 + n)\n",
    "    def atualizar(self):\n",
    "        \"Atualiza estado atual (i.e., Estoque de capital.\"\n",
    "        self.k = self.h()\n",
    "    def steady_state(self):\n",
    "        \"Calcula steady-state, pra onde a economia vai convergir para uma taxa de crescimento de capital.\"\n",
    "        \n",
    "        n, s, δ, α, z = self.n, self.s, self.δ, self.α, self.z  # Se livrar de \"self.\"\n",
    "    \n",
    "        return ((s * z) / (n + δ))**(1 / (1 - α))  # Calcula e retorna o valor do steady-state\n",
    "    def gerar_série_do_estoque(self, t):\n",
    "        \n",
    "        \"\"\"Gerar estoque série de estoque de capital até  t escolhido\"\"\"\n",
    "        path = []\n",
    "        for i in range(t):\n",
    "            path.append(self.k)\n",
    "            self.atualizar()\n",
    "        return path       "
   ]
  },
  {
   "cell_type": "markdown",
   "metadata": {},
   "source": [
    "### Essa última celula de código não importa, e sim para ilustrar as capacidades de programar em python:"
   ]
  },
  {
   "cell_type": "code",
   "execution_count": 53,
   "metadata": {},
   "outputs": [
    {
     "data": {
      "text/plain": [
       "int"
      ]
     },
     "execution_count": 53,
     "metadata": {},
     "output_type": "execute_result"
    }
   ],
   "source": [
    "# por exemplo:\n",
    "x = 1\n",
    "type(x)"
   ]
  },
  {
   "cell_type": "code",
   "execution_count": 54,
   "metadata": {},
   "outputs": [
    {
     "data": {
      "text/plain": [
       "list"
      ]
     },
     "execution_count": 54,
     "metadata": {},
     "output_type": "execute_result"
    }
   ],
   "source": [
    "# o python diz que é um inteiro, complicando um pouco mais:\n",
    "y = [1,2,3,4,5,6]\n",
    "type(y)"
   ]
  },
  {
   "cell_type": "code",
   "execution_count": 55,
   "metadata": {},
   "outputs": [
    {
     "name": "stdout",
     "output_type": "stream",
     "text": [
      "[1, 2, 3, 4, 5, 6, 7]\n"
     ]
    }
   ],
   "source": [
    "# ele diz que é uma lista, tudo em python é um ojeto, seja uma número inteiro ou uma lista, e cada tipo de objeto\n",
    "# tem métodos, que são funções que podem ser aplicadas a esse tipo de objeto, por exemplo:\n",
    "y.append(7)      # nesse caso estão utilizando o método de inserir um novo elemento na lista \n",
    "print(y)"
   ]
  },
  {
   "cell_type": "code",
   "execution_count": 56,
   "metadata": {},
   "outputs": [
    {
     "name": "stdout",
     "output_type": "stream",
     "text": [
      "<class 'numpy.ndarray'>\n"
     ]
    },
    {
     "data": {
      "text/plain": [
       "13.666666666666666"
      ]
     },
     "execution_count": 56,
     "metadata": {},
     "output_type": "execute_result"
    }
   ],
   "source": [
    "# agora vou utilizar a biblioteca numpy\n",
    "import numpy as np\n",
    "z = np.array([1,10,15,17,19,20])\n",
    "print(type(z))\n",
    "z.mean()"
   ]
  },
  {
   "cell_type": "code",
   "execution_count": null,
   "metadata": {},
   "outputs": [],
   "source": [
    "# nesse caso o python disse que z era uma array e ainda que objetos do tipo array tem o método mean(),\n",
    "# que é simplesmente a média aritmética dos elementos"
   ]
  },
  {
   "cell_type": "markdown",
   "metadata": {},
   "source": [
    "### Por isso criei o tipo Solow, pois posso criar métodos e implementar da forma que quiser, posso inclusive comparar a convergência enre dois modelos, por exemplo:"
   ]
  },
  {
   "cell_type": "code",
   "execution_count": 57,
   "metadata": {},
   "outputs": [],
   "source": [
    "s1 = Solowqe(k=8)  # um que começa com estoque de capital 8\n",
    "s2 = Solowqe(k=12) # outro que começa com estoque de capital 12\n",
    "# note que os valores dados na criação class Solow são só por default, posso alterá-los também:\n",
    "s3 = Solowqe(k=8,δ=0.5) # por exemplo"
   ]
  },
  {
   "cell_type": "code",
   "execution_count": 58,
   "metadata": {},
   "outputs": [
    {
     "data": {
      "text/plain": [
       "__main__.Solowqe"
      ]
     },
     "execution_count": 58,
     "metadata": {},
     "output_type": "execute_result"
    }
   ],
   "source": [
    "type(s1)"
   ]
  },
  {
   "cell_type": "markdown",
   "metadata": {},
   "source": [
    "### Diferença de convvergencia entre s1 e s2:"
   ]
  },
  {
   "cell_type": "code",
   "execution_count": 59,
   "metadata": {},
   "outputs": [
    {
     "data": {
      "image/png": "[encoded data removed]",
      "text/plain": [
       "<Figure size 648x432 with 1 Axes>"
      ]
     },
     "metadata": {
      "needs_background": "light"
     },
     "output_type": "display_data"
    }
   ],
   "source": [
    "T = 60\n",
    "fig, ax = plt.subplots(figsize=(9, 6))\n",
    "ax.plot([s1.steady_state()]*T, 'k-', label='steady state') # colocando linha horizontal comum aos modelos\n",
    "        # Plotando a sperie de tempo nesse caso pra dois modelos\n",
    "for s in s1, s2:\n",
    "    lb = f'Série de estoque de capital de {s.k}'\n",
    "    ax.plot(s.gerar_série_do_estoque(T), 'o-', lw=2, alpha=0.6, label=lb)\n",
    "ax.legend()\n",
    "plt.show()"
   ]
  },
  {
   "cell_type": "code",
   "execution_count": null,
   "metadata": {},
   "outputs": [],
   "source": []
  }
 ],
 "metadata": {
  "kernelspec": {
   "display_name": "Python 3",
   "language": "python",
   "name": "python3"
  },
  "language_info": {
   "codemirror_mode": {
    "name": "ipython",
    "version": 3
   },
   "file_extension": ".py",
   "mimetype": "text/x-python",
   "name": "python",
   "nbconvert_exporter": "python",
   "pygments_lexer": "ipython3",
   "version": "3.7.6"
  }
 },
 "nbformat": 4,
 "nbformat_minor": 4
}
